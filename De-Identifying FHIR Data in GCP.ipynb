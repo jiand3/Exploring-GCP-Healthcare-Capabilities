{
 "cells": [
  {
   "cell_type": "markdown",
   "metadata": {},
   "source": [
    "This example is from Google Qwiklabs' \"Ingesting FHIR Data with the HealthcareAPI,\" which can be found at this link:\n",
    "https://www.qwiklabs.com/focuses/6104?parent=catalog"
   ]
  },
  {
   "cell_type": "markdown",
   "metadata": {
    "id": "KUOMiqitoaMJ"
   },
   "source": [
    "### Define Variables"
   ]
  },
  {
   "cell_type": "markdown",
   "metadata": {
    "id": "KZ3E71rDof7R"
   },
   "source": [
    "```\n",
    "export PROJECT_ID=$(gcloud config list --format 'value(core.project)')\n",
    "export PROJECT_NUMBER=$(gcloud projects list --filter=\"${PROJECT_ID}\" --format=\"value(PROJECT_NUMBER)\")\n",
    "export REGION=us-central1\n",
    "export DATASET_ID=dataset1\n",
    "export FHIR_STORE_ID=fhirstore1\n",
    "export TOPIC=fhir-topic\n",
    "```"
   ]
  },
  {
   "cell_type": "markdown",
   "metadata": {
    "id": "Q0p8JIVVoK-x"
   },
   "source": [
    "### Navigate to Healthcare API"
   ]
  },
  {
   "cell_type": "markdown",
   "metadata": {
    "id": "wW74lf_noxg7"
   },
   "source": [
    "* Create dataset: \n",
    "    * Name = \"dataset1\"\n",
    "    * Region = \"us-central1\n",
    "* Select dataset1\n",
    "* Create Data Store\n",
    "    * Select FHIR\n",
    "    * Name = \"fhirstore1\"\n",
    "    * Create Topic\n",
    "        * Topic ID = \"fhir-topic\"\n",
    "        * Click Create Topic\n",
    "    * Select FHIR Store Configuration = \"R4\"\n",
    "    * Click Create\n",
    "* Create another Data Store\n",
    "    * Select FHIR\n",
    "    * Name = \"de_id\n",
    "    * Select FHIR Store Configuration = \"R4\"\n",
    "    * Click Create"
   ]
  },
  {
   "cell_type": "markdown",
   "metadata": {},
   "source": [
    "### Create BigQuery datasets"
   ]
  },
  {
   "cell_type": "markdown",
   "metadata": {},
   "source": [
    "Command 1: Create dataset1\n",
    "```\n",
    "bq --location=us-east1 mk --dataset --description HCAPI-dataset $PROJECT_ID:$DATASET_ID\n",
    "```\n",
    "Command 2: Create de_id\n",
    "```\n",
    "bq --location=us-east1 mk --dataset --description HCAPI-dataset-de-id $PROJECT_ID:de_id\n",
    "```"
   ]
  },
  {
   "cell_type": "markdown",
   "metadata": {},
   "source": [
    "### Allow healthcare API to export to BigQuery"
   ]
  },
  {
   "cell_type": "markdown",
   "metadata": {},
   "source": [
    "Command 1\n",
    "```\n",
    "gcloud projects add-iam-policy-binding $PROJECT_ID \\\n",
    "--member=serviceAccount:service-$PROJECT_NUMBER@gcp-sa-healthcare.iam.gserviceaccount.com \\\n",
    "--role=roles/bigquery.dataEditor\n",
    "gcloud projects add-iam-policy-binding $PROJECT_ID \\\n",
    "--member=serviceAccount:service-$PROJECT_NUMBER@gcp-sa-healthcare.iam.gserviceaccount.com \\\n",
    "--role=roles/bigquery.jobUser\n",
    "```\n",
    "\n",
    "Command 2\n",
    "```\n",
    "curl -X PATCH \\\n",
    "    -H \"Authorization: Bearer $(gcloud auth application-default print-access-token)\" \\\n",
    "    -H \"Content-Type: application/json; charset=utf-8\" \\\n",
    "    --data \"{\n",
    "      'streamConfigs': [\n",
    "        {\n",
    "          'bigqueryDestination': {\n",
    "            'datasetUri': 'bq://$PROJECT_ID.$DATASET_ID',\n",
    "            'schemaConfig': {\n",
    "              'schemaType': 'ANALYTICS'\n",
    "            }\n",
    "          }\n",
    "        }\n",
    "      ]\n",
    "    }\" \"https://healthcare.googleapis.com/v1/projects/$PROJECT_ID/locations/$REGION/datasets/$DATASET_ID/fhirStores/$FHIR_STORE_ID?updateMask=streamConfigs\"\n",
    "```"
   ]
  },
  {
   "cell_type": "markdown",
   "metadata": {},
   "source": [
    "### Import FHIR data into healthcare data"
   ]
  },
  {
   "cell_type": "markdown",
   "metadata": {},
   "source": [
    "```\n",
    "gcloud healthcare fhir-stores import gcs $FHIR_STORE_ID --dataset=$DATASET_ID --location=$REGION --gcs-uri=gs://spls/gsp457/fhir_devdays_gcp/fhir1/* --content-structure=BUNDLE_PRETTY\n",
    "```"
   ]
  },
  {
   "cell_type": "markdown",
   "metadata": {},
   "source": [
    "### De-identifying the data"
   ]
  },
  {
   "cell_type": "markdown",
   "metadata": {},
   "source": [
    "* Navigate to Healthcare API\n",
    "* Select dataset 1\n",
    "* Select \"Actions\" dropdown for fhirstore1\n",
    "    * Select de-identify\n",
    "    * Select dataset 1 as the dataset\n",
    "    * Select de_id as the destination\n",
    "    * Click to append the data\n",
    "    * Click next\n",
    "    * Click de-identify"
   ]
  },
  {
   "cell_type": "markdown",
   "metadata": {},
   "source": [
    "### Export to BigQuery"
   ]
  },
  {
   "cell_type": "markdown",
   "metadata": {},
   "source": [
    "Command 1: export dataset1\n",
    "```\n",
    "gcloud beta healthcare fhir-stores export bq $FHIR_STORE_ID --dataset=$DATASET_ID --location=$REGION --bq-dataset=bq://$PROJECT_ID.$DATASET_ID --schema-type=analytics\n",
    "```\n",
    "\n",
    "Command 2: export de_id\n",
    "```\n",
    "gcloud beta healthcare fhir-stores export bq de_id --dataset=$DATASET_ID --location=$REGION --bq-dataset=bq://$PROJECT_ID.de_id --schema-type=analytics\n",
    "```"
   ]
  },
  {
   "cell_type": "markdown",
   "metadata": {},
   "source": [
    "### Example queries"
   ]
  },
  {
   "cell_type": "markdown",
   "metadata": {},
   "source": [
    "Query 1: View patient data with name\n",
    "```sql\n",
    "SELECT   \n",
    "id AS patient_id,\n",
    "  name[safe_offset(0)].given AS given_name,\n",
    "  name[safe_offset(0)].family AS family,\n",
    "  birthDate AS birth_date\n",
    "  FROM `dataset1.Patient` LIMIT 10\n",
    "```\n",
    "\n",
    "\n",
    "Query 2: View patient name with removed (de-identified) name\n",
    "```sql\n",
    "SELECT   \n",
    "id AS patient_id,\n",
    "  name[safe_offset(0)].given AS given_name,\n",
    "  name[safe_offset(0)].family AS family,\n",
    "  birthDate AS birth_date\n",
    "  FROM `de_id.Patient` LIMIT 10\n",
    "```"
   ]
  }
 ],
 "metadata": {
  "colab": {
   "authorship_tag": "ABX9TyPNd5JW7ViPOGq/JcQixYfw",
   "name": "Untitled0.ipynb",
   "provenance": []
  },
  "kernelspec": {
   "display_name": "Python 3",
   "language": "python",
   "name": "python3"
  },
  "language_info": {
   "codemirror_mode": {
    "name": "ipython",
    "version": 3
   },
   "file_extension": ".py",
   "mimetype": "text/x-python",
   "name": "python",
   "nbconvert_exporter": "python",
   "pygments_lexer": "ipython3",
   "version": "3.7.10"
  }
 },
 "nbformat": 4,
 "nbformat_minor": 1
}
